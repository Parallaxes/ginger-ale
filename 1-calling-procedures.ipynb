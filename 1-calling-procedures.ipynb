{
 "cells": [
  {
   "cell_type": "code",
   "execution_count": null,
   "metadata": {
    "vscode": {
     "languageId": "plaintext"
    }
   },
   "outputs": [],
   "source": [
    "[Chorus: KSI]\n",
    "I'm in the thick of it, everybody knows\n",
    "They know me where it snows, I skied in and they froze\n",
    "I don't know no nothin' 'bout no ice, I'm just cold\n",
    "Forty somethin' milli' subs or so, I've been told\n",
    "\n",
    "[Verse 1: KSI]\n",
    "I'm in my prime, and this ain't even final form\n",
    "They knocked me down, but still, my feet, they find the floor\n",
    "I went from living rooms straight out to sold-out tours\n",
    "Life's a fight, but trust, I'm ready for the war\n",
    "\n",
    "[Pre-Chorus: KSI]\n",
    "Woah-oh-oh\n",
    "This is how the story goes\n",
    "Woah-oh-oh\n",
    "I guess this is how the story goes\n",
    "\n",
    "[Chorus: KSI]\n",
    "I'm in the thick of it, everybody knows\n",
    "They know me where it snows, I skied in and they froze\n",
    "I don't know no nothin' 'bout no ice, I'm just cold\n",
    "Forty somethin' milli' subs or so, I'vе been told\n",
    "\n",
    "[Verse 2: KSI]\n",
    "From the screen to the ring, to the pеn, to the king\n",
    "Where's my crown? That's my bling, always drama when I ring\n",
    "See, I believe that if I see it in my heart\n",
    "Smash through the ceiling 'cause I'm reaching for the stars\n",
    "\n",
    "[Pre-Chorus: KSI]\n",
    "Woah-oh-oh\n",
    "This is how the story goes\n",
    "Woah-oh-oh\n",
    "I guess this is how the story goes\n",
    "\n",
    "[Chorus: KSI & Trippie Redd]\n",
    "I'm in the thick of it, everybody knows\n",
    "They know me where it snows, I skied in and they froze (Woo)\n",
    "I don't know no nothin' 'bout no ice, I'm just cold\n",
    "Forty somethin' milli' subs or so, I've been told\n",
    "\n",
    "[Verse 3: Trippie Redd, KSI, Trippie Redd & KSI]\n",
    "Highway to heaven, I'm just cruisin' by my lone'\n",
    "They cast me out, left me for dead, them people cold\n",
    "My faith in God, mind in the sun, I'm 'bout to sow (Yeah)\n",
    "My life is hard, I took the wheel, I cracked the code (Yeah-yeah, woah-oh-oh)\n",
    "Ain't nobody gon' save you, man, this life will break you (Yeah, woah-oh-oh)\n",
    "In the thick of it, this is how the story goes\n",
    "\n",
    "[Chorus: KSI, Trippie Redd, KSI & Trippie Redd]\n",
    "I'm in the thick of it, everybody knows\n",
    "They know me where it snows, I skied in and they froze (Woo)\n",
    "I don't know no nothin' 'bout no ice, I'm just cold\n",
    "Forty somethin' milli' subs or so, I've been told\n",
    "I'm in the thick of it, everybody knows (Everybody knows)\n",
    "They know me where it snows, I skied in and they froze (Yeah)\n",
    "I don't know no nothin' 'bout no ice, I'm just cold\n",
    "Forty somethin' milli' subs or so, I've been told (Ooh-ooh)\n",
    "[Outro: KSI, KSI & Trippie Redd]\n",
    "Woah-oh-oh (Nah-nah-nah-nah, ayy, ayy)\n",
    "This is how the story goes (Nah, nah)\n",
    "Woah-oh-oh\n",
    "I guess this is how the story goes"
   ]
  }
 ],
 "metadata": {
  "language_info": {
   "name": "python"
  }
 },
 "nbformat": 4,
 "nbformat_minor": 2
}
