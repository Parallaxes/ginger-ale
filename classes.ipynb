{
 "cells": [
  {
   "cell_type": "markdown",
   "metadata": {},
   "source": [
    "# JavaScript Classes & Methods\n",
    "****\n",
    "\n",
    "Welcome to Object Oriented Programming (OOP)! The beginning of the end as I'd like to call it. Have fun with Java and C++ in the future... or you can use Rust!\n",
    "\n",
    "## Defining Classes\n",
    "Classes in JavaScript are special functions that provide a more convenient and syntactically cleaner way to create objects and deal with inheritance. Just as you can define function expressions and function declarations, a class can be defined in two ways: a class expression or a class declaration."
   ]
  },
  {
   "cell_type": "code",
   "execution_count": null,
   "metadata": {
    "vscode": {
     "languageId": "javascript"
    }
   },
   "outputs": [],
   "source": [
    "// Declaration\n",
    "class Rectangle {  \n",
    "    // The `constructor` method is a special method of a class \n",
    "    // for creating and initializing an object instance of that class.\n",
    "    constructor(height, width) {\n",
    "        // Here, `this` refers to the object instance. A placeholder,\n",
    "        // if you will. It is used to access the object's properties.\n",
    "        this.height = height;\n",
    "        this.width = width;\n",
    "    }\n",
    "}\n",
    "\n",
    "// Expression; the class is anonymous but assigned to a variable\n",
    "// Here, we are creating a class object without a name\n",
    "const Rectangle = class {\n",
    "    constructor(height, width) {\n",
    "        this.height = height;\n",
    "        this.width = width;\n",
    "    }\n",
    "}\n",
    "\n",
    "// Expression; the class has its own name\n",
    "// Here, we are creating a class object with a name\n",
    "const Rectangle = class Rectangle2 {\n",
    "    constructor(height, width) {\n",
    "        this.height = height;\n",
    "        this.width = width;\n",
    "    }\n",
    "}"
   ]
  },
  {
   "cell_type": "markdown",
   "metadata": {},
   "source": [
    "## Class Body\n",
    "The body of a class is the part contained within the curly braces `{}`. There is where you define class members, like methods and the constructor.\n",
    "\n",
    "A class element can be characterized by three aspects:\n",
    "- Kind: Getter, setter, method, or field\n",
    "- Location: Static or instance\n",
    "- Visbility: Public or private\n",
    "\n",
    "These will get their own topic sections later.\n"
   ]
  },
  {
   "cell_type": "markdown",
   "metadata": {},
   "source": [
    "## The Constructor Method\n",
    "\n",
    "The `constructor` method is a special method used to create and initialize an object created within a class. There can only be one special method with the name \"constructor\" in a class.\n",
    "\n",
    "For example, you can create instance properties inside the constructor:"
   ]
  },
  {
   "cell_type": "code",
   "execution_count": null,
   "metadata": {
    "vscode": {
     "languageId": "javascript"
    }
   },
   "outputs": [],
   "source": [
    "class Rectangle {\n",
    "    constructor(height, width) {\n",
    "        this.height = height;\n",
    "        this.width = width;\n",
    "    }\n",
    "}  "
   ]
  },
  {
   "cell_type": "markdown",
   "metadata": {},
   "source": [
    "## Methods\n",
    "\n",
    "Methods are defined on the initial class instance, and are shared by all children. Methods can be plain functions, async functions (async D:), generator functions, or async (sadge) generator functions.\n",
    "\n",
    "For example:"
   ]
  },
  {
   "cell_type": "code",
   "execution_count": null,
   "metadata": {
    "vscode": {
     "languageId": "javascript"
    }
   },
   "outputs": [],
   "source": [
    "class Rectangle {\n",
    "    // Constructor\n",
    "    constructor(height, width) {\n",
    "        this.height = height;\n",
    "        this.width = width;\n",
    "    }\n",
    "\n",
    "    // Getter\n",
    "    get area() {\n",
    "        return this.calcArea();\n",
    "    }\n",
    "\n",
    "    // Method\n",
    "    calcArea() {\n",
    "        return this.height * this.width;\n",
    "    }\n",
    "\n",
    "    // Generator\n",
    "    *getSides() {\n",
    "        yield this.height;\n",
    "        yield this.width;\n",
    "        yield this.height;\n",
    "        yield this.width;\n",
    "    }\n",
    "}\n",
    "\n",
    "const square = new Rectangle(10, 10);\n",
    "\n",
    "console.log(square.area); // 100\n",
    "console.log([...square.getSides()]); // [10, 10, 10, 10]\n",
    "  "
   ]
  },
  {
   "cell_type": "markdown",
   "metadata": {},
   "source": [
    "So, what's going on here? (Thank god no async)\n",
    "\n",
    "### Constructor\n",
    "As we know, the `constructor` method initializes the object. Ok, cool.\n",
    "\n",
    "### Get\n",
    "As for the `get` getter method, this is used to get a specific property of the object. The line `return this.calcArea()` calls the `calcArea()` method, which calculates the area of the rectangle it returns it.\n",
    "\n",
    "### Function\n",
    "The `calcArea()` function method calculates area of the rectangle using the height and width properties, and returns it.\n",
    "\n",
    "### Generator\n",
    "The `*getSides()` generator method allows you to return (or \"yield\") multiple values lazily, meaning they are produced one at a time, when requested, rather than all at once.\n",
    "\n",
    "When you call `square.getSides()`, the generator doesn't immediately give you all four values. Instead it returns an iterator. You can then loop over this iterator, requesting one value at a time. By using the [...] spread operator (as in `console.log[...sqaure.getSides()])`), you're converting the iterator into an array containing all the yielded values.\n",
    "\n",
    "### Breakdown\n",
    "\n"
   ]
  }
 ],
 "metadata": {
  "language_info": {
   "name": "python"
  }
 },
 "nbformat": 4,
 "nbformat_minor": 2
}
